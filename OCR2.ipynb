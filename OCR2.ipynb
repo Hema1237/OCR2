{
 "cells": [
  {
   "cell_type": "code",
   "execution_count": 8,
   "id": "26ff3327-1d20-4e4c-b7af-7789cb3242ec",
   "metadata": {},
   "outputs": [
    {
     "name": "stdout",
     "output_type": "stream",
     "text": [
      "NO TEXT TO BE APPEARED\n"
     ]
    }
   ],
   "source": [
    "from PIL import Image\n",
    "\n",
    "# Define the path to your image file\n",
    "path = r\"C:\\Users\\HEMA M\\OneDrive\\Desktop\\mini project\\text image\\hello-text.jpg\"\n",
    "\n",
    "# Open the image\n",
    "image = Image.open(path)\n",
    "\n",
    "# Extract text (you might need to replace this with your specific text extraction method)\n",
    "text = 'NO TEXT TO BE APPEARED'  # Placeholder for text extraction\n",
    "\n",
    "print(text)\n"
   ]
  },
  {
   "cell_type": "code",
   "execution_count": null,
   "id": "ec33e9c1-38e2-4f84-a6e4-ec8ec98412da",
   "metadata": {},
   "outputs": [],
   "source": [
    "Extract text from an image : Specifying a language"
   ]
  },
  {
   "cell_type": "code",
   "execution_count": 28,
   "id": "2049937a-9fa2-4367-a206-3c9772415f57",
   "metadata": {},
   "outputs": [
    {
     "name": "stdout",
     "output_type": "stream",
     "text": [
      "त([% [7\n",
      "\n",
      "550 ॥0.9आ5%\n",
      "दा\n",
      "\n",
      "डी. 88\n",
      "\n",
      "ठप087 22 नारा ार! 206 जज\n",
      "\n",
      "2 00005 0 0 विधि घिए ७८७००\n",
      "\n",
      "कर०७6 27 हंडिपि करगिल चिंछाा भा\n",
      "\n",
      "गफ९ सि3५५० ९०027 ठप पाक 00 हरि हिट, फिएा\n",
      "\n",
      "लत फए कहा डप्ितेशाड .. . पिरकाणाति 2७05 निधिजिफा\n",
      "\n",
      "०0८६5 ९.3० ८85९-30\n",
      "जा डरबांड ॥'0ाडांसड छह टप .\n",
      "(ा०ण पशाभुएए हि 0 | पिराफ ( जिएए 25 फवाएफ थक\n",
      "\n",
      "0प्रा' खिं।र्त (०,325 (0 0९ फंड शाशत 0. हाल था थ। [हाय एप्स मं. उ0\n",
      "लाश फ्णातब हुणा2 पाए छाढ शक छा हाल 5 9:37 80झाकद55 9:53 (0९ आटा (जीव अशड966\n",
      "\n",
      "अपन ठग 0 5्श८पवप0ा, विणाड णीगाडणा भाा०्णादर7 स्‍5जलएंगु! पी वह 0॥| 98 '2त/0८बाइु पमिंड (248 ... 9802056 | पथ! 2 0९8 02 96.\n",
      "\n",
      "()पा णि 006.\n",
      "\n",
      "0णांड [50 00णाधिाड 96 छत] 93227 छिहआ - एप पा 0 पा& णि ऐर० 0 7 पाए ए065 (0 [68ए6\n",
      "िणपापछ आह थिवाड पु (०0 50 पणप तार ८०्पात तह एन फए ८्याग[भांछागाए 88 पिंड छिप तह2ा\n",
      "\n",
      "ट०प्पापत 0पा. एप? पाएफुडमा ... एज [,बउरर', छिपा डंडा उंड(0ए०७0 इण्रिनव्वपन्छ था िए एव फिल *रकाह\" टववाुमा हा 2\n",
      "एरंण्स! 0800 तह फरा055... तह ब?2ा8ै 0 उपट्ड०8/ फिम 3. फंड जिए डणफड पिव फरर एपाए पड ध्एा-एपापाश (0 08८0000\n",
      "अंडा्फिट्या जाए (0 तंन्टॉकड व... स्करह प्र फरांॉपि प्5: ॥स्‍८-.. उश्यष पंजशा (० 3 9०0पविपिंा .. जांघाह फाफिड शा डॉफ0एति 58 (2\n",
      "बिका 0 छल, 2858४ 9९ पिया 26 ८०पते ला है इन्ड 0,” कह इमतें, श.. ८०प्तातिप ए०९ 0प का [घाहोंड\n",
      "\n",
      "विनर २ सा नि रा लिन लक\n",
      "ठंड ठिपड०ा 5 हुम्फा हित... फु०डशातैकए पेज अच्थि 3 पुल. पिंजाइंचफुिशफल्‍ला (2 पार बात... छाए बाते चिअडकाकुफिणक, बा ित ... ए्राफल पिए (डाहा00 935\n",
      "फंड [०ाइ-5प्ग तप बफाजिंपिंघा .. उठ! 0 फिलभामिटह\" पर १2... एल! 04 िपा09९ 9वड९ते पुफ०0 .. पिन 9858 00 पिफ्तेक्ञाशाि .. ाडंड (8 पल ण्पाति डॉक्ए गा\n",
      "\n",
      "पार कारादता\n",
      "?09.000. ध9ा0२\n",
      "\n",
      "(० ७७८०0९ छा (बता'ड सह्६.... पाउते९ फिर *उुठणाजिफडह तीपी- “प्र? आाएँ ८0-जुलाभीणा, ब्यता टॉग्गु8: वडिएश पिह ०50, गा 08.\n",
      "पंप कररिथिश व कांघिकफ्ट  ट्पाए तेन्लंजंणा (० हु० बढभप ... िलरंडजाए पलक 0 हम... गा [०0500 वेह्टअं00  -णणणणटाााााान\n",
      "पह षथिशाएपा (० ुणी चिह .. ऐकाॉंति एमागणामाव *्ेए०८बड फिर टॉीाइन#९ 0880 - भाएँ पि्.. पावदिल्ड फिंफि (९ पराअपाम [९पेश ट्यापरा७0 भा ऐि.\n",
      "\n",
      "05।08: हए0.. छ६ हा ह७ इर६।\n",
      "\n",
      "ता\n",
      "\n",
      "\n"
     ]
    }
   ],
   "source": [
    "from PIL import Image\n",
    "import pytesseract as pt\n",
    "\n",
    "# Define the path to your image file\n",
    "path = r\"C:\\Users\\HEMA M\\OneDrive\\Desktop\\mini project\\text image\\news-2.jpg\"\n",
    "\n",
    "# Open the image\n",
    "image = Image.open(path)\n",
    "\n",
    "# Extract text specifying the language\n",
    "text = pt.image_to_string(image, lang='hin')\n",
    "\n",
    "print(text)\n"
   ]
  },
  {
   "cell_type": "code",
   "execution_count": 32,
   "id": "8f7b2636-3627-4e32-b150-6d1648b05dfb",
   "metadata": {},
   "outputs": [
    {
     "name": "stdout",
     "output_type": "stream",
     "text": [
      "Image file not found.\n"
     ]
    }
   ],
   "source": [
    "import cv2\n",
    "import pytesseract\n",
    "\n",
    "# Define the correct path to your image file\n",
    "image_path = 'news-2.jpg'\n",
    "\n",
    "# Function to extract text from the image\n",
    "def extract_text(image_path, lang='eng'):\n",
    "    try:\n",
    "        image = cv2.imread(image_path)\n",
    "        if image is None:\n",
    "            raise FileNotFoundError(\"Image file not found.\")\n",
    "        \n",
    "        gray_image = cv2.cvtColor(image, cv2.COLOR_BGR2GRAY)\n",
    "        text = pytesseract.image_to_string(gray_image, lang=lang)\n",
    "        return text\n",
    "    except Exception as e:\n",
    "        return str(e)\n",
    "\n",
    "# Extract text with a specified timeout (works without explicit timeout for simplicity)\n",
    "text = extract_text(image_path, lang='hin')\n",
    "\n",
    "print(text)\n"
   ]
  },
  {
   "cell_type": "code",
   "execution_count": null,
   "id": "68e91bfc-1a99-4c85-ba1e-7cae7b75c179",
   "metadata": {},
   "outputs": [],
   "source": [
    "Extract text from an image : Timeout extraction"
   ]
  },
  {
   "cell_type": "code",
   "execution_count": 40,
   "id": "383d9933-42e1-4d40-b1a4-3451af8ea611",
   "metadata": {},
   "outputs": [
    {
     "name": "stdout",
     "output_type": "stream",
     "text": [
      "सिर रछ0ए7.0\n",
      "फिछिज्ाणिएाए\n",
      "९0१९७ एए0ए7.0\n",
      "प0ारफाएए.\n",
      "वसपपठा लत काठ फुप07.8\n",
      "0१९०8४ए,\n",
      "\n",
      "\n"
     ]
    }
   ],
   "source": [
    "from PIL import Image\n",
    "\n",
    "# Define the correct path to your image file\n",
    "path = r\"C:\\Users\\HEMA M\\OneDrive\\Desktop\\mini project\\text image\\bound-text-2.jpg\"\n",
    "\n",
    "# Open the image\n",
    "image = Image.open(path)\n",
    "\n",
    "# Extract text from the image using the default language (you can specify 'hin' if needed)\n",
    "import pytesseract as pt\n",
    "text = pt.image_to_string(image, lang='hin')\n",
    "\n",
    "print(text)\n"
   ]
  },
  {
   "cell_type": "code",
   "execution_count": null,
   "id": "90760ccc-5802-4f01-bcd5-b49be7cb1a59",
   "metadata": {},
   "outputs": [],
   "source": [
    "Extract text from an image : Timeout extraction"
   ]
  },
  {
   "cell_type": "code",
   "execution_count": 42,
   "id": "6f2ebb98-9b81-4929-b2ff-d510e22808fa",
   "metadata": {},
   "outputs": [
    {
     "name": "stdout",
     "output_type": "stream",
     "text": [
      "सिर रछ0ए7.0\n",
      "फिछिज्ाणिएाए\n",
      "९0१९७ एए0ए7.0\n",
      "प0ारफाएए.\n",
      "वसपपठा लत काठ फुप07.8\n",
      "0१९०8४ए,\n",
      "\n",
      "\n"
     ]
    }
   ],
   "source": [
    "from PIL import Image\n",
    "import pytesseract as pt\n",
    "import concurrent.futures\n",
    "\n",
    "def extract_text(image_path, lang='eng', timeout=10):\n",
    "    def ocr_function(image_path, lang):\n",
    "        image = Image.open(image_path)\n",
    "        return pt.image_to_string(image, lang=lang)\n",
    "\n",
    "    with concurrent.futures.ThreadPoolExecutor() as executor:\n",
    "        future = executor.submit(ocr_function, image_path, lang)\n",
    "        try:\n",
    "            text = future.result(timeout=timeout)\n",
    "            return text\n",
    "        except concurrent.futures.TimeoutError:\n",
    "            return \"Text extraction timed out\"\n",
    "\n",
    "# Example usage\n",
    "image_path = r\"C:\\Users\\HEMA M\\OneDrive\\Desktop\\mini project\\text image\\bound-text-2.jpg\"\n",
    "text = extract_text(image_path, lang='hin', timeout=10)\n",
    "print(text)\n"
   ]
  },
  {
   "cell_type": "code",
   "execution_count": null,
   "id": "b602d475-ea79-4730-bd04-9d5ca7470999",
   "metadata": {},
   "outputs": [],
   "source": []
  }
 ],
 "metadata": {
  "kernelspec": {
   "display_name": "Python 3 (ipykernel)",
   "language": "python",
   "name": "python3"
  },
  "language_info": {
   "codemirror_mode": {
    "name": "ipython",
    "version": 3
   },
   "file_extension": ".py",
   "mimetype": "text/x-python",
   "name": "python",
   "nbconvert_exporter": "python",
   "pygments_lexer": "ipython3",
   "version": "3.12.4"
  }
 },
 "nbformat": 4,
 "nbformat_minor": 5
}
